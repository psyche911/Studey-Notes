{
 "cells": [
  {
   "cell_type": "markdown",
   "id": "bf9ccc41",
   "metadata": {},
   "source": [
    "### MATH5845 Assignment 2\n",
    "\n",
    "Di Mao z5197402 "
   ]
  },
  {
   "cell_type": "markdown",
   "id": "fdb1aa94",
   "metadata": {},
   "source": [
    "Answer: After 3973 conjugate gradient iterations, the desired accuracy has been achieved."
   ]
  },
  {
   "cell_type": "code",
   "execution_count": 1,
   "id": "d10858e8",
   "metadata": {},
   "outputs": [
    {
     "data": {
      "application/vnd.jupyter.widget-view+json": {
       "model_id": "3e1050a857424f0e835a52bfdd6bca82",
       "version_major": 2,
       "version_minor": 0
      },
      "text/plain": [
       "  0%|          | 0/10000 [00:00<?, ?it/s]"
      ]
     },
     "metadata": {},
     "output_type": "display_data"
    },
    {
     "name": "stdout",
     "output_type": "stream",
     "text": [
      "\n",
      "The solution converged after 3973 iterations.\n"
     ]
    },
    {
     "data": {
      "image/png": "[encoded data removed]",
      "text/plain": [
       "<Figure size 432x288 with 1 Axes>"
      ]
     },
     "metadata": {
      "needs_background": "light"
     },
     "output_type": "display_data"
    }
   ],
   "source": [
    "import math\n",
    "import numpy as np\n",
    "from numpy import linalg as LA\n",
    "from scipy.fft import fft\n",
    "import matplotlib.pyplot as plt\n",
    "from tqdm.notebook import tqdm\n",
    "\n",
    "\n",
    "# Circulant Embedding Method\n",
    "def cirt(x):\n",
    "    # generate t series\n",
    "    t = np.arange(0,n,1)\n",
    "    # construct the first row of Toeplitz A through the autocovariance function\n",
    "    g_1 = np.array([np.exp(-10*t/n)*np.cos(-10*math.pi*t/n)])\n",
    "    k = np.arange(n-1,0,-1)\n",
    "    g_2 = np.array([np.exp(-10*k/n)*np.cos(-10*math.pi*k/n)])\n",
    "    g_2 = np.append(0,g_2)\n",
    "    g_2 = np.array([g_2])\n",
    "    gamma = np.hstack((g_1,g_2))        \n",
    "    # initial x\n",
    "    zero = np.zeros([1, n])\n",
    "    x_f = np.hstack((x.T, zero))\n",
    "    z = fft(np.conjugate(x_f))/(2*n)    # using FFT algorithm\n",
    "    lamb = fft(np.conjugate(gamma))\n",
    "    z = np.multiply(z, lamb)    # Hadamard product\n",
    "    z = fft(np.conjugate(z)).real\n",
    "    return z[:n,:n].reshape(n,1)\n",
    "\n",
    "\n",
    "# Conjugate Gradient Descent Method\n",
    "def conjgrad(n, x, b, tolerance):\n",
    "    max_it = 10000    # assuming convergence iteration number < 10000\n",
    "    pbar = tqdm(total=max_it)\n",
    "    pbar.set_description(\"iter / max_it\");\n",
    "\n",
    "    beta = 0\n",
    "    d = np.array([0 for i in np.arange(0,n,1)]).reshape(n,1)\n",
    "    r = b - cirt(x)    \n",
    "    rho = LA.norm(r, ord=2)\n",
    "    rho_square = rho**2\n",
    "    \n",
    "    errors = []\n",
    "\n",
    "    it = 0    # iteration counter\n",
    "    error = LA.norm(r, ord=2)\n",
    "    while (error > tolerance):\n",
    "        if it > max_it:\n",
    "            print('\\nSolution did not converged within the maximum'\n",
    "                  ' number of iterations'\n",
    "                  f'\\nLast l2_diff was: {error:.4e}')\n",
    "            break\n",
    "    \n",
    "        d = r + beta*d\n",
    "        Ad = cirt(d)    # column vector\n",
    "        dAd = np.dot(d.T, Ad)\n",
    "        alpha = rho_square/dAd\n",
    "        x = x + alpha*d\n",
    "        r = r - alpha*Ad\n",
    "        beta = (LA.norm(r, ord=2))**2/rho_square\n",
    "        rho_square = beta*rho_square\n",
    "        rho = math.sqrt(rho_square)\n",
    "        error = LA.norm((cirt(x)-b), ord=2)\n",
    "        errors.append(error)\n",
    "        #print(it, \": \", error)\n",
    "        it += 1\n",
    "        \n",
    "        pbar.update(1)\n",
    "        \n",
    "    else:\n",
    "        print(f'\\nThe solution converged after {it} iterations.')\n",
    "        out_array = np.log(np.array(errors))\n",
    "        it_end = len(errors)\n",
    "    \n",
    "    del(pbar)\n",
    "    \n",
    "    return out_array, it_end\n",
    "\n",
    "\n",
    "if __name__==\"__main__\":\n",
    "    # Initial guess x; vector b; tolerance e\n",
    "    n = 2**15\n",
    "    e = 1e-4\n",
    "\n",
    "    x = np.array([0 for i in np.arange(0,n,1)]).reshape(n,1)\n",
    "    b = np.array([1 for i in np.arange(0,n,1)]).reshape(n,1)\n",
    "\n",
    "\n",
    "    # Plot \n",
    "    out_array, it_end = conjgrad(n, x, b, e)\n",
    "    t = np.arange(it_end)\n",
    "\n",
    "    plt.plot(t, out_array, \"g*-\")           \n",
    "    plt.title(r\"logarithmic plot of $\\ln(e_t)$ vs. t\")\n",
    "    plt.xlabel(\"t\")\n",
    "    plt.ylabel(r'$\\ln(e_t)$')\n",
    "    plt.show()"
   ]
  },
  {
   "cell_type": "code",
   "execution_count": null,
   "id": "2abce2db-40a2-44b9-9521-47ce886858d1",
   "metadata": {},
   "outputs": [],
   "source": []
  }
 ],
 "metadata": {
  "kernelspec": {
   "display_name": "Python 3",
   "language": "python",
   "name": "python3"
  },
  "language_info": {
   "codemirror_mode": {
    "name": "ipython",
    "version": 3
   },
   "file_extension": ".py",
   "mimetype": "text/x-python",
   "name": "python",
   "nbconvert_exporter": "python",
   "pygments_lexer": "ipython3",
   "version": "3.8.10"
  }
 },
 "nbformat": 4,
 "nbformat_minor": 5
}
